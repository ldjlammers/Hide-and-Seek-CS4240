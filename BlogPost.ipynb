{
  "nbformat": 4,
  "nbformat_minor": 0,
  "metadata": {
    "colab": {
      "name": "BlogPost.ipynb",
      "provenance": [],
      "authorship_tag": "ABX9TyO4fV3DV8NtQ3ThA3yRp0Ml",
      "include_colab_link": true
    },
    "kernelspec": {
      "name": "python3",
      "display_name": "Python 3"
    }
  },
  "cells": [
    {
      "cell_type": "markdown",
      "metadata": {
        "id": "view-in-github",
        "colab_type": "text"
      },
      "source": [
        "<a href=\"https://colab.research.google.com/github/ldjlammers/Hide-and-Seek-CS4240/blob/master/BlogPost.ipynb\" target=\"_parent\"><img src=\"https://colab.research.google.com/assets/colab-badge.svg\" alt=\"Open In Colab\"/></a>"
      ]
    },
    {
      "cell_type": "markdown",
      "metadata": {
        "id": "2vsvG125OuiR",
        "colab_type": "text"
      },
      "source": [
        "![alt text](./in-text-images/HideandSeekVisual.jpg)\n",
        "\n",
        "## The 'Hide and Seek' method for classifaction and localisation\n",
        "\n",
        "*By: Laurens Lammers and Mink van Oosterhout*\n",
        "\n",
        "\n"
      ]
    },
    {
      "cell_type": "code",
      "metadata": {
        "id": "8nNW_FSZOTJU",
        "colab_type": "code",
        "colab": {}
      },
      "source": [
        ""
      ],
      "execution_count": 0,
      "outputs": []
    }
  ]
}